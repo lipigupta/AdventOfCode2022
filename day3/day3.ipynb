{
 "cells": [
  {
   "cell_type": "markdown",
   "metadata": {},
   "source": [
    "# Day 3"
   ]
  },
  {
   "cell_type": "code",
   "execution_count": 45,
   "metadata": {},
   "outputs": [],
   "source": [
    "FILE = \"input.txt\"\n",
    "f = open(FILE)\n",
    "import csv\n",
    "reader = csv.reader(f, delimiter=\" \")\n",
    "all_sacks = list(reader)\n",
    "sacks = [s[0] for s in all_sacks] #can probably flatten some other way\n",
    "\n",
    "letters = \"abcdefghijklmnopqrstuvwxyz\"\n",
    "upper_letters = letters.upper()\n",
    "letter_set = sorted(set(letters))\n",
    "upper_letter_set = sorted(set(upper_letters))\n",
    "\n",
    "lower_prio = dict(zip(letter_set,list(range(1,27))))\n",
    "upper_prio = dict(zip(upper_letter_set,list(range(27,53))))\n"
   ]
  },
  {
   "cell_type": "markdown",
   "metadata": {},
   "source": [
    "## Part 1"
   ]
  },
  {
   "cell_type": "code",
   "execution_count": 44,
   "metadata": {},
   "outputs": [
    {
     "name": "stdout",
     "output_type": "stream",
     "text": [
      "The total priority is 7863.\n"
     ]
    }
   ],
   "source": [
    "total_prio = 0\n",
    "for sack in sacks:\n",
    "    n = len(sack)\n",
    "    first = set(sack[0:int(n/2)])\n",
    "    second = set(sack[int(n/2):])\n",
    "    item = list(first.intersection(second))[0]\n",
    "    if item in letter_set:\n",
    "        prio = lower_prio[item]\n",
    "    else:\n",
    "        prio = upper_prio[item]\n",
    "    total_prio = total_prio + prio\n",
    "\n",
    "print(\"The total priority is {}.\".format(total_prio))"
   ]
  },
  {
   "cell_type": "markdown",
   "metadata": {},
   "source": [
    "## Part 2 - kind of confusing... Made sure to use the example to see if I was doing it right."
   ]
  },
  {
   "cell_type": "code",
   "execution_count": 56,
   "metadata": {},
   "outputs": [],
   "source": [
    "test_sample = [[\"vJrwpWtwJgWrhcsFMMfFFhFp\",\n",
    "\"jqHRNqRjqzjGDLGLrsFMfFZSrLrFZsSL\",\n",
    "\"PmmdzqPrVvPwwTWBwg\"],\n",
    "[\"wMqvLMZHhHMvwLHjbvcjnnSBnvTQFn\",\n",
    "\"ttgJtRGJQctTZtZT\",\n",
    "\"CrZsJsPPZsGzwwsLwLmpwMDw\"]]"
   ]
  },
  {
   "cell_type": "code",
   "execution_count": 73,
   "metadata": {},
   "outputs": [
    {
     "name": "stdout",
     "output_type": "stream",
     "text": [
      "The total priority from the test sample is 70.\n",
      "Did we get the right answer? True\n",
      "The total priority for my actual input is 2488.\n"
     ]
    }
   ],
   "source": [
    "elves = [sacks[i:i+3] for i in range(0,len(sacks),3)] \n",
    "## I had done this wrong, I thought I didn't need to iterate \n",
    "## through the whole list for some reason?? Anyways, I got part two wrong\n",
    "## on the first try. I got a low priority and was told it should be higher. \n",
    "## Because my test sample was right, as well as part 1, I figured the issue was\n",
    "## the loop itself. That's why I counted iterations and realized the elves grouping\n",
    "## was wrong. Fixed! :)\n",
    "total_prio = 0\n",
    "for elf in test_sample:\n",
    "    x,y,z = set(elf[0]), set(elf[1]), set(elf[2])\n",
    "    item = list(x.intersection(y,z))[0]\n",
    "    if item in letter_set:\n",
    "        prio = lower_prio[item]\n",
    "    else:\n",
    "        prio = upper_prio[item]\n",
    "    total_prio = total_prio + prio\n",
    "\n",
    "print(\"The total priority from the test sample is {}.\".format(total_prio))\n",
    "print(\"Did we get the right answer? {}\".format(total_prio == 70))\n",
    "\n",
    "total_prio = 0\n",
    "iterations = 0\n",
    "for elf in elves:\n",
    "    x,y,z = set(elf[0]), set(elf[1]), set(elf[2])\n",
    "    item = list(x.intersection(y,z))[0]\n",
    "    if item in letter_set:\n",
    "        prio = lower_prio[item]\n",
    "    else:\n",
    "        prio = upper_prio[item]\n",
    "    total_prio = total_prio + prio\n",
    "    iterations += 1\n",
    "\n",
    "#print(iterations)\n",
    "print(\"The total priority for my actual input is {}.\".format(total_prio))"
   ]
  },
  {
   "cell_type": "code",
   "execution_count": null,
   "metadata": {},
   "outputs": [],
   "source": []
  }
 ],
 "metadata": {
  "kernelspec": {
   "display_name": "Python 3.10.2 64-bit",
   "language": "python",
   "name": "python3"
  },
  "language_info": {
   "codemirror_mode": {
    "name": "ipython",
    "version": 3
   },
   "file_extension": ".py",
   "mimetype": "text/x-python",
   "name": "python",
   "nbconvert_exporter": "python",
   "pygments_lexer": "ipython3",
   "version": "3.10.2"
  },
  "orig_nbformat": 4,
  "vscode": {
   "interpreter": {
    "hash": "aee8b7b246df8f9039afb4144a1f6fd8d2ca17a180786b69acc140d282b71a49"
   }
  }
 },
 "nbformat": 4,
 "nbformat_minor": 2
}
