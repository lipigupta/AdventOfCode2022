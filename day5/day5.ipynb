{
 "cells": [
  {
   "cell_type": "markdown",
   "metadata": {},
   "source": [
    "# Day 5"
   ]
  },
  {
   "cell_type": "code",
   "execution_count": 25,
   "metadata": {},
   "outputs": [],
   "source": [
    "FILE = \"input.txt\"\n",
    "f = open(FILE)\n",
    "import csv\n",
    "reader = csv.reader(f, delimiter=\",\")\n",
    "data = list(reader)"
   ]
  },
  {
   "cell_type": "markdown",
   "metadata": {},
   "source": [
    "# Part 1\n",
    "There was probably a way to parse this but I did it by hand and checked it a million times to make sure it was right... it was!"
   ]
  },
  {
   "cell_type": "code",
   "execution_count": 35,
   "metadata": {},
   "outputs": [],
   "source": [
    "'''\n",
    "                [B]     [L]     [S]\n",
    "        [Q] [J] [C]     [W]     [F]\n",
    "    [F] [T] [B] [D]     [P]     [P]\n",
    "    [S] [J] [Z] [T]     [B] [C] [H]\n",
    "    [L] [H] [H] [Z] [G] [Z] [G] [R]\n",
    "[R] [H] [D] [R] [F] [C] [V] [Q] [T]\n",
    "[C] [J] [M] [G] [P] [H] [N] [J] [D]\n",
    "[H] [B] [R] [S] [R] [T] [S] [R] [L]\n",
    " 1   2   3   4   5   6   7   8   9 \n",
    " '''\n",
    "stacks = {\n",
    "    1: [\"H\",\"C\",\"R\"],\n",
    "    2: [\"B\",\"J\",\"H\",\"L\",\"S\",\"F\"],\n",
    "    3: [\"R\",\"M\",\"D\",\"H\",\"J\",\"T\",\"Q\"],\n",
    "    4: [\"S\",\"G\",\"R\",\"H\",\"Z\",\"B\",\"J\"],\n",
    "    5: [\"R\",\"P\",\"F\",\"Z\",\"T\",\"D\",\"C\",\"B\"],\n",
    "    6: [\"T\",\"H\",\"C\",\"G\"],\n",
    "    7: [\"S\",\"N\",\"V\",\"Z\",\"B\",\"P\",\"W\",\"L\"],\n",
    "    8: [\"R\",\"J\",\"Q\",\"G\",\"C\"],\n",
    "    9: [\"L\",\"D\",\"T\",\"R\",\"H\",\"P\",\"F\",\"S\"]\n",
    " }"
   ]
  },
  {
   "cell_type": "code",
   "execution_count": 36,
   "metadata": {},
   "outputs": [
    {
     "name": "stdout",
     "output_type": "stream",
     "text": [
      "Done rearranging boxes!\n"
     ]
    }
   ],
   "source": [
    "for line in data:\n",
    "    temp = line[0].split(\" \")\n",
    "    num_to_move = int(temp[1])\n",
    "    from_stack = int(temp[3])\n",
    "    to_stack = int(temp[5])\n",
    "    for i in range(num_to_move):\n",
    "        box = stacks[from_stack].pop()\n",
    "        stacks[to_stack].append(box)\n",
    "print(\"Done rearranging boxes!\")"
   ]
  },
  {
   "cell_type": "code",
   "execution_count": 37,
   "metadata": {},
   "outputs": [
    {
     "name": "stdout",
     "output_type": "stream",
     "text": [
      "1 S\n",
      "2 H\n",
      "3 Q\n",
      "4 W\n",
      "5 S\n",
      "6 R\n",
      "7 B\n",
      "8 D\n",
      "9 L\n",
      "The boxes on top of each stack at the end of the procedure have the order: SHQWSRBDL.\n"
     ]
    }
   ],
   "source": [
    "boxes = ''\n",
    "for k,v in stacks.items():\n",
    "    boxes = boxes + v[-1]\n",
    "    print(k, v[-1])\n",
    "print(\"The boxes on top of each stack at the end of the procedure have the order: {}.\".format(boxes))"
   ]
  },
  {
   "cell_type": "markdown",
   "metadata": {},
   "source": [
    "# Part 2\n",
    "Annoyed that pop doesn't work like I thought (doesn't remove multiple elements.)"
   ]
  },
  {
   "cell_type": "code",
   "execution_count": 71,
   "metadata": {},
   "outputs": [],
   "source": [
    "'''\n",
    "                [B]     [L]     [S]\n",
    "        [Q] [J] [C]     [W]     [F]\n",
    "    [F] [T] [B] [D]     [P]     [P]\n",
    "    [S] [J] [Z] [T]     [B] [C] [H]\n",
    "    [L] [H] [H] [Z] [G] [Z] [G] [R]\n",
    "[R] [H] [D] [R] [F] [C] [V] [Q] [T]\n",
    "[C] [J] [M] [G] [P] [H] [N] [J] [D]\n",
    "[H] [B] [R] [S] [R] [T] [S] [R] [L]\n",
    " 1   2   3   4   5   6   7   8   9 \n",
    " '''\n",
    "stacks = {\n",
    "    1: [\"H\",\"C\",\"R\"],\n",
    "    2: [\"B\",\"J\",\"H\",\"L\",\"S\",\"F\"],\n",
    "    3: [\"R\",\"M\",\"D\",\"H\",\"J\",\"T\",\"Q\"],\n",
    "    4: [\"S\",\"G\",\"R\",\"H\",\"Z\",\"B\",\"J\"],\n",
    "    5: [\"R\",\"P\",\"F\",\"Z\",\"T\",\"D\",\"C\",\"B\"],\n",
    "    6: [\"T\",\"H\",\"C\",\"G\"],\n",
    "    7: [\"S\",\"N\",\"V\",\"Z\",\"B\",\"P\",\"W\",\"L\"],\n",
    "    8: [\"R\",\"J\",\"Q\",\"G\",\"C\"],\n",
    "    9: [\"L\",\"D\",\"T\",\"R\",\"H\",\"P\",\"F\",\"S\"]\n",
    " }\n",
    "for line in data:\n",
    "    temp = line[0].split(\" \")\n",
    "    num_to_move = int(temp[1])\n",
    "    from_stack = int(temp[3])\n",
    "    to_stack = int(temp[5])\n",
    "    boxes_pickedup = stacks[from_stack][-num_to_move:]\n",
    "    del stacks[from_stack][-num_to_move:]\n",
    "    stacks[to_stack] += boxes_pickedup\n"
   ]
  },
  {
   "cell_type": "code",
   "execution_count": 70,
   "metadata": {},
   "outputs": [
    {
     "name": "stdout",
     "output_type": "stream",
     "text": [
      "1 C\n",
      "2 D\n",
      "3 T\n",
      "4 Q\n",
      "5 Z\n",
      "6 H\n",
      "7 B\n",
      "8 R\n",
      "9 S\n",
      "The boxes on top of each stack at the end of the procedure have the order: CDTQZHBRS.\n"
     ]
    }
   ],
   "source": [
    "boxes = ''\n",
    "for k,v in stacks.items():\n",
    "    if len(v) > 0:\n",
    "        boxes = boxes + v[-1]\n",
    "        print(k, v[-1])\n",
    "    else:\n",
    "        pass\n",
    "print(\"The boxes on top of each stack at the end of the procedure have the order: {}.\".format(boxes))"
   ]
  },
  {
   "cell_type": "code",
   "execution_count": null,
   "metadata": {},
   "outputs": [],
   "source": []
  }
 ],
 "metadata": {
  "kernelspec": {
   "display_name": "Python 3.10.2 64-bit",
   "language": "python",
   "name": "python3"
  },
  "language_info": {
   "codemirror_mode": {
    "name": "ipython",
    "version": 3
   },
   "file_extension": ".py",
   "mimetype": "text/x-python",
   "name": "python",
   "nbconvert_exporter": "python",
   "pygments_lexer": "ipython3",
   "version": "3.10.2"
  },
  "orig_nbformat": 4,
  "vscode": {
   "interpreter": {
    "hash": "aee8b7b246df8f9039afb4144a1f6fd8d2ca17a180786b69acc140d282b71a49"
   }
  }
 },
 "nbformat": 4,
 "nbformat_minor": 2
}
