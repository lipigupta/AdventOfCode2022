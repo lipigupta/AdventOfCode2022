{
 "cells": [
  {
   "cell_type": "markdown",
   "metadata": {},
   "source": [
    "# Day 2"
   ]
  },
  {
   "cell_type": "code",
   "execution_count": 7,
   "metadata": {},
   "outputs": [],
   "source": [
    "FILE = \"input.txt\"\n",
    "f = open(FILE)\n",
    "import csv\n",
    "reader = csv.reader(f, delimiter=\" \")\n",
    "all_games = list(reader)"
   ]
  },
  {
   "cell_type": "markdown",
   "metadata": {},
   "source": [
    "## Part 1"
   ]
  },
  {
   "cell_type": "code",
   "execution_count": 14,
   "metadata": {},
   "outputs": [
    {
     "name": "stdout",
     "output_type": "stream",
     "text": [
      "The strategy guide will earn me 10595 points total.\n"
     ]
    }
   ],
   "source": [
    "points_dict = {\"X\": 1, \"Y\": 2, \"Z\": 3, \"win\": 6, \"loss\": 0, \"draw\": 3}\n",
    "names_dict = {\"A\":\"rock\", \"B\":\"paper\", \"C\":\"scissors\", \"X\":\"rock\", \"Y\":\"paper\",\"Z\":\"scissors\"}\n",
    "rules = \"Rock defeats Scissors, Scissors defeats Paper, and Paper defeats Rock\"\n",
    "total_points = 0\n",
    "verbose = False\n",
    "for game in all_games:\n",
    "    elf, me = game[0], game[1]\n",
    "    # if elf throws rock(A), I draw for rock(X), win for paper(Y), lose for scissors(Z)\n",
    "    if elf == \"A\":\n",
    "        if me == \"X\":\n",
    "            result = \"draw\"\n",
    "        elif me == \"Y\":\n",
    "            result = \"win\"\n",
    "        elif me == \"Z\":\n",
    "            result = \"loss\"\n",
    "    # if elf throws paper(B), I draw for paper(Y), win for scissors(Z), lose for rock(X)\n",
    "    elif elf == \"B\":\n",
    "        if me == \"Y\":\n",
    "            result = \"draw\"\n",
    "        elif me == \"Z\":\n",
    "            result = \"win\"\n",
    "        elif me == \"X\":\n",
    "            result = \"loss\"\n",
    "    # if elf throws scissors(C), I draw for scissors(Z), win for rock(X), lose for paper(Y)\n",
    "    elif elf == \"C\":\n",
    "        if me == \"Z\":\n",
    "            result = \"draw\"\n",
    "        elif me == \"X\":\n",
    "            result = \"win\"\n",
    "        elif me == \"Y\":\n",
    "            result = \"loss\"\n",
    "\n",
    "    points = points_dict[me] + points_dict[result]\n",
    "    total_points = total_points + points\n",
    "    if verbose:\n",
    "        print(\"The Elf threw {} and I threw {}, so the result is a {} for me. I get {} points.\".format(names_dict[elf], names_dict[me], result, points))\n",
    "\n",
    "print(\"The strategy guide will earn me {} points total.\".format(total_points))\n"
   ]
  },
  {
   "cell_type": "markdown",
   "metadata": {},
   "source": [
    "## Part 2"
   ]
  },
  {
   "cell_type": "code",
   "execution_count": 20,
   "metadata": {},
   "outputs": [
    {
     "name": "stdout",
     "output_type": "stream",
     "text": [
      "The strategy guide will earn me 9541 points total.\n"
     ]
    }
   ],
   "source": [
    "points_dict = {\"A\": 1, \"B\": 2, \"C\": 3, \"Z\": 6, \"X\": 0, \"Y\": 3}\n",
    "names_dict = {\"A\":\"rock\", \"B\":\"paper\", \"C\":\"scissors\", \"X\":\"loss\", \"Y\":\"draw\",\"Z\":\"win\"}\n",
    "verbose = False\n",
    "total_points = 0\n",
    "for game in all_games:\n",
    "    elf, result = game[0], game[1]\n",
    "    # if elf throws rock(A), I draw for rock(A), win for paper(B), lose for scissors(C)\n",
    "    if elf == \"A\":\n",
    "        if result == \"X\": #loss\n",
    "            me = \"C\"\n",
    "        elif result == \"Y\": #draw\n",
    "            me = \"A\"\n",
    "        elif result == \"Z\": #win\n",
    "            me = \"B\"\n",
    "    # if elf throws paper(B), I draw for paper(B), win for scissors(C), lose for rock(A)\n",
    "    if elf == \"B\":\n",
    "        if result == \"X\": #loss\n",
    "            me = \"A\"\n",
    "        elif result == \"Y\": #draw\n",
    "            me = \"B\"\n",
    "        elif result == \"Z\": #win\n",
    "            me = \"C\"\n",
    "    # if elf throws scissors(C), I draw for scissors(C), win for rock(A), lose for paper(B)\n",
    "    if elf == \"C\":\n",
    "        if result == \"X\": #loss\n",
    "            me = \"B\"\n",
    "        elif result == \"Y\": #draw\n",
    "            me = \"C\"\n",
    "        elif result == \"Z\": #win\n",
    "            me = \"A\"\n",
    "\n",
    "    points = points_dict[me] + points_dict[result]\n",
    "    total_points = total_points + points\n",
    "    if verbose:\n",
    "        print(elf, me, result)\n",
    "        print(\"The Elf threw {} and I threw {}, so the result is a {} for me. I get {} points.\".format(names_dict[elf], names_dict[me], names_dict[result], points))\n",
    "\n",
    "print(\"The strategy guide will earn me {} points total.\".format(total_points))\n"
   ]
  },
  {
   "cell_type": "code",
   "execution_count": null,
   "metadata": {},
   "outputs": [],
   "source": []
  }
 ],
 "metadata": {
  "kernelspec": {
   "display_name": "Python 3.10.2 64-bit",
   "language": "python",
   "name": "python3"
  },
  "language_info": {
   "codemirror_mode": {
    "name": "ipython",
    "version": 3
   },
   "file_extension": ".py",
   "mimetype": "text/x-python",
   "name": "python",
   "nbconvert_exporter": "python",
   "pygments_lexer": "ipython3",
   "version": "3.10.2"
  },
  "orig_nbformat": 4,
  "vscode": {
   "interpreter": {
    "hash": "aee8b7b246df8f9039afb4144a1f6fd8d2ca17a180786b69acc140d282b71a49"
   }
  }
 },
 "nbformat": 4,
 "nbformat_minor": 2
}
