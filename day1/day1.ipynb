{
 "cells": [
  {
   "cell_type": "markdown",
   "metadata": {},
   "source": [
    "# Day One"
   ]
  },
  {
   "cell_type": "code",
   "execution_count": 100,
   "metadata": {},
   "outputs": [],
   "source": [
    "FILE = \"input.txt\"\n",
    "f = open(FILE,\"r\")\n",
    "data = f.readlines()"
   ]
  },
  {
   "cell_type": "markdown",
   "metadata": {},
   "source": [
    "## Prepare the data"
   ]
  },
  {
   "cell_type": "code",
   "execution_count": 74,
   "metadata": {},
   "outputs": [
    {
     "name": "stdout",
     "output_type": "stream",
     "text": [
      "There are 259 elves.\n"
     ]
    }
   ],
   "source": [
    "from itertools import islice\n",
    "\n",
    "breaks = []\n",
    "for i, item in enumerate(data):\n",
    "    if item == '\\n':\n",
    "        breaks.append(i)\n",
    "\n",
    "all_elves = []\n",
    "\n",
    "first_elf = list(islice(data, 0, breaks[0]))\n",
    "all_elves.append(first_elf)\n",
    "\n",
    "for i in range(len(breaks)-1):\n",
    "    middle_elf = list(islice(data,breaks[i]+1, breaks[i+1]))\n",
    "    all_elves.append(middle_elf)\n",
    "\n",
    "last_elf = list(islice(data,breaks[len(breaks)-1]+1,len(data)))\n",
    "all_elves.append(last_elf)\n",
    "num_elves = len(all_elves)\n",
    "print(\"There are {} elves.\".format(num_elves))\n",
    "\n",
    "only_elves = []\n",
    "for elves in all_elves:\n",
    "    temp = [x.split('\\n')[0] for x in elves]\n",
    "    only_elves.append(temp)"
   ]
  },
  {
   "cell_type": "markdown",
   "metadata": {},
   "source": [
    "### Part 1"
   ]
  },
  {
   "cell_type": "code",
   "execution_count": 89,
   "metadata": {},
   "outputs": [
    {
     "name": "stdout",
     "output_type": "stream",
     "text": [
      "Elf number 112 is carrying 71124 calories.\n"
     ]
    }
   ],
   "source": [
    "def add_up(dat):\n",
    "    sum = 0\n",
    "    for i in dat:\n",
    "        sum = sum + int(i)\n",
    "    return sum\n",
    "\n",
    "\n",
    "calories = [add_up(elf) for elf in only_elves]\n",
    "max_cals = calories[np.argmax(calories)]\n",
    "swole_elf = np.argmax(calories)\n",
    "\n",
    "print(\"Elf number {} is carrying {} calories.\".format(swole_elf, max_cals))\n",
    "\n"
   ]
  },
  {
   "cell_type": "markdown",
   "metadata": {},
   "source": [
    "### Part 2"
   ]
  },
  {
   "cell_type": "code",
   "execution_count": 99,
   "metadata": {},
   "outputs": [
    {
     "name": "stdout",
     "output_type": "stream",
     "text": [
      "[181 123 112]\n",
      "Elves 181, 123, and 112 are carrying the most calories, totalling 204639.\n"
     ]
    }
   ],
   "source": [
    "top_three_elves = np.argsort(calories)[-3:]\n",
    "total_calories = add_up([calories[x] for x in top_three_elves])\n",
    "print(\"Elves {}, {}, and {} are carrying the most calories, totalling {}.\".format(top_three_elves[0],top_three_elves[1],top_three_elves[2], total_calories))"
   ]
  }
 ],
 "metadata": {
  "kernelspec": {
   "display_name": "Python 3.9.5 ('base')",
   "language": "python",
   "name": "python3"
  },
  "language_info": {
   "codemirror_mode": {
    "name": "ipython",
    "version": 3
   },
   "file_extension": ".py",
   "mimetype": "text/x-python",
   "name": "python",
   "nbconvert_exporter": "python",
   "pygments_lexer": "ipython3",
   "version": "3.9.5"
  },
  "orig_nbformat": 4,
  "vscode": {
   "interpreter": {
    "hash": "96f117a1a953e0b32319249247e060c5a865921fe1d484df12057d2818a9f3b9"
   }
  }
 },
 "nbformat": 4,
 "nbformat_minor": 2
}
