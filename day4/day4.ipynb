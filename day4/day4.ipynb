{
 "cells": [
  {
   "cell_type": "markdown",
   "metadata": {},
   "source": [
    "# Day 4"
   ]
  },
  {
   "cell_type": "code",
   "execution_count": 9,
   "metadata": {},
   "outputs": [],
   "source": [
    "FILE = \"input.txt\"\n",
    "f = open(FILE)\n",
    "import csv\n",
    "reader = csv.reader(f, delimiter=\",\")\n",
    "data = list(reader)\n",
    "import numpy as np\n",
    "\n",
    "sample_data = [['2-4','6-8'],\n",
    "['2-3','4-5'],\n",
    "['5-7','7-9'],\n",
    "['2-8','3-7'],\n",
    "['6-6','4-6'],\n",
    "['2-6','4-8']]"
   ]
  },
  {
   "cell_type": "markdown",
   "metadata": {},
   "source": [
    "## Part 1"
   ]
  },
  {
   "cell_type": "code",
   "execution_count": 19,
   "metadata": {},
   "outputs": [
    {
     "name": "stdout",
     "output_type": "stream",
     "text": [
      "Total number of fully contained assignments is 2\n"
     ]
    }
   ],
   "source": [
    "\n",
    "contained = 0\n",
    "\n",
    "for dat in sample_data:\n",
    "    elf1, elf2 = dat[0], dat[1]\n",
    "    # I am sure there is a faster way to do this but I like being explicit.\n",
    "    elf1_start, elf1_stop = int(elf1.split(\"-\")[0]), int(elf1.split(\"-\")[1])\n",
    "    elf2_start, elf2_stop = int(elf2.split(\"-\")[0]), int(elf2.split(\"-\")[1])\n",
    "\n",
    "    if elf1_start == elf1_stop:\n",
    "        elf1 = set([elf1_start])\n",
    "    else:\n",
    "        ## Originally I forgot the +1's! Oops.\n",
    "        elf1 = set(list(range(elf1_start,elf1_stop+1)))\n",
    "\n",
    "\n",
    "    if elf2_start == elf2_stop:\n",
    "        elf2 = set([elf2_start])\n",
    "    else:\n",
    "        elf2 = set(list(range(elf2_start,elf2_stop+1)))\n",
    "\n",
    "    if np.logical_or(elf1.issubset(elf2),elf2.issubset(elf1)):\n",
    "        contained += 1\n",
    "\n",
    "print(\"Total number of fully contained assignments is {}\".format(contained))"
   ]
  },
  {
   "cell_type": "code",
   "execution_count": 20,
   "metadata": {},
   "outputs": [
    {
     "name": "stdout",
     "output_type": "stream",
     "text": [
      "Total number of fully contained assignments is 599\n"
     ]
    }
   ],
   "source": [
    "#Being lazy and not putting this into a function since I'm just going to use it twice :) \n",
    "contained = 0\n",
    "\n",
    "for dat in data:\n",
    "    elf1, elf2 = dat[0], dat[1]\n",
    "    # I am sure there is a faster way to do this but I like being explicit.\n",
    "    elf1_start, elf1_stop = int(elf1.split(\"-\")[0]), int(elf1.split(\"-\")[1])\n",
    "    elf2_start, elf2_stop = int(elf2.split(\"-\")[0]), int(elf2.split(\"-\")[1])\n",
    "\n",
    "    if elf1_start == elf1_stop:\n",
    "        elf1 = set([elf1_start])\n",
    "    else:\n",
    "        ## Originally I forgot the +1's! Oops.\n",
    "        elf1 = set(list(range(elf1_start,elf1_stop+1)))\n",
    "\n",
    "\n",
    "    if elf2_start == elf2_stop:\n",
    "        elf2 = set([elf2_start])\n",
    "    else:\n",
    "        elf2 = set(list(range(elf2_start,elf2_stop+1)))\n",
    "\n",
    "    if np.logical_or(elf1.issubset(elf2),elf2.issubset(elf1)):\n",
    "        contained += 1\n",
    "\n",
    "print(\"Total number of fully contained assignments is {}\".format(contained))"
   ]
  },
  {
   "cell_type": "markdown",
   "metadata": {},
   "source": [
    "## Part 2 - only requires changing one word... \n",
    "ok technically I should rename the variable contained too... but its more fun this way!"
   ]
  },
  {
   "cell_type": "code",
   "execution_count": 23,
   "metadata": {},
   "outputs": [
    {
     "name": "stdout",
     "output_type": "stream",
     "text": [
      "Total number of intersecting (partially overlapping) assignments is 4\n"
     ]
    }
   ],
   "source": [
    "#Being lazy and not putting this into a function since I'm just going to use it twice :) \n",
    "contained = 0\n",
    "\n",
    "for dat in sample_data:\n",
    "    elf1, elf2 = dat[0], dat[1]\n",
    "    # I am sure there is a faster way to do this but I like being explicit.\n",
    "    elf1_start, elf1_stop = int(elf1.split(\"-\")[0]), int(elf1.split(\"-\")[1])\n",
    "    elf2_start, elf2_stop = int(elf2.split(\"-\")[0]), int(elf2.split(\"-\")[1])\n",
    "\n",
    "    if elf1_start == elf1_stop:\n",
    "        elf1 = set([elf1_start])\n",
    "    else:\n",
    "        ## Originally I forgot the +1's! Oops.\n",
    "        elf1 = set(list(range(elf1_start,elf1_stop+1)))\n",
    "\n",
    "\n",
    "    if elf2_start == elf2_stop:\n",
    "        elf2 = set([elf2_start])\n",
    "    else:\n",
    "        elf2 = set(list(range(elf2_start,elf2_stop+1)))\n",
    "\n",
    "    if np.logical_or(elf1.intersection(elf2),elf2.intersection(elf1)):\n",
    "        contained += 1\n",
    "\n",
    "print(\"Total number of intersecting (partially overlapping) assignments is {}\".format(contained))"
   ]
  },
  {
   "cell_type": "code",
   "execution_count": 25,
   "metadata": {},
   "outputs": [
    {
     "name": "stdout",
     "output_type": "stream",
     "text": [
      "Total number of intersecting (partially overlapping) assignments is 928\n"
     ]
    }
   ],
   "source": [
    "#Being lazy and not putting this into a function since I'm just going to use it twice :) \n",
    "contained = 0\n",
    "\n",
    "for dat in data:\n",
    "    elf1, elf2 = dat[0], dat[1]\n",
    "    # I am sure there is a faster way to do this but I like being explicit.\n",
    "    elf1_start, elf1_stop = int(elf1.split(\"-\")[0]), int(elf1.split(\"-\")[1])\n",
    "    elf2_start, elf2_stop = int(elf2.split(\"-\")[0]), int(elf2.split(\"-\")[1])\n",
    "\n",
    "    if elf1_start == elf1_stop:\n",
    "        elf1 = set([elf1_start])\n",
    "    else:\n",
    "        ## Originally I forgot the +1's! Oops.\n",
    "        elf1 = set(list(range(elf1_start,elf1_stop+1)))\n",
    "\n",
    "\n",
    "    if elf2_start == elf2_stop:\n",
    "        elf2 = set([elf2_start])\n",
    "    else:\n",
    "        elf2 = set(list(range(elf2_start,elf2_stop+1)))\n",
    "\n",
    "    if np.logical_or(elf1.intersection(elf2),elf2.intersection(elf1)):\n",
    "        contained += 1\n",
    "\n",
    "print(\"Total number of intersecting (partially overlapping) assignments is {}\".format(contained))"
   ]
  },
  {
   "cell_type": "code",
   "execution_count": null,
   "metadata": {},
   "outputs": [],
   "source": []
  }
 ],
 "metadata": {
  "kernelspec": {
   "display_name": "Python 3.9.5 ('base')",
   "language": "python",
   "name": "python3"
  },
  "language_info": {
   "codemirror_mode": {
    "name": "ipython",
    "version": 3
   },
   "file_extension": ".py",
   "mimetype": "text/x-python",
   "name": "python",
   "nbconvert_exporter": "python",
   "pygments_lexer": "ipython3",
   "version": "3.9.5"
  },
  "orig_nbformat": 4,
  "vscode": {
   "interpreter": {
    "hash": "96f117a1a953e0b32319249247e060c5a865921fe1d484df12057d2818a9f3b9"
   }
  }
 },
 "nbformat": 4,
 "nbformat_minor": 2
}
